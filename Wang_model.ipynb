{
  "nbformat": 4,
  "nbformat_minor": 0,
  "metadata": {
    "colab": {
      "name": "fisica3.ipynb",
      "provenance": [],
      "collapsed_sections": [],
      "include_colab_link": true
    },
    "kernelspec": {
      "name": "python3",
      "display_name": "Python 3"
    },
    "language_info": {
      "name": "python"
    }
  },
  "cells": [
    {
      "cell_type": "markdown",
      "metadata": {
        "id": "view-in-github",
        "colab_type": "text"
      },
      "source": [
        "<a href=\"https://colab.research.google.com/github/orudda/Wang-Landau-algorithm/blob/main/Wang_model.ipynb\" target=\"_parent\"><img src=\"https://colab.research.google.com/assets/colab-badge.svg\" alt=\"Open In Colab\"/></a>"
      ]
    },
    {
      "cell_type": "code",
      "metadata": {
        "id": "LTegBQjCQndc"
      },
      "source": [
        "import matplotlib.pyplot as plt\n",
        "from numba import jit\n",
        "import numpy as np\n",
        "import random, math, pylab"
      ],
      "execution_count": null,
      "outputs": []
    },
    {
      "cell_type": "markdown",
      "metadata": {
        "id": "TvMtV8hoTv7q"
      },
      "source": [
        "#Cod fonte"
      ]
    },
    {
      "cell_type": "code",
      "metadata": {
        "id": "Y_ekuz_mQtDA"
      },
      "source": [
        "@jit(nopython=True)\n",
        "def estado_ini(N):\n",
        "    #Gera um estadon inicial aleatório para rede\n",
        "    s = np.zeros(N,dtype=np.int8)\n",
        "    for i in range(N):\n",
        "        s[i] = np.sign(2*np.random.random()-1)\n",
        "    return s\n",
        "\n",
        "@jit(nopython=True)\n",
        "def vizinhos(L,N):\n",
        "    #Define a tabela de vizinhos \n",
        "    viz = np.zeros((N,4),dtype=np.int16)\n",
        "    for k in range(N):\n",
        "        viz[k,0]=k+1\n",
        "        if (k+1) % L == 0: viz[k,0] = k+1-L\n",
        "        viz[k,1] = k+L \n",
        "        if k > (N-L-1): viz[k,1] = k+L-N\n",
        "        viz[k,2] = k-1 \n",
        "        if k % L == 0: viz[k,2] = k+L-1\n",
        "        viz[k,3] = k-L \n",
        "        if k < L: viz[k,3] = k+N-L\n",
        "    return viz\n",
        "\n",
        "@jit(nopython=True)\n",
        "def energia(s, viz, N):\n",
        "    #Calcula a energia da configuração s\n",
        "    ener = 0 \n",
        "    for i in range(N):\n",
        "        h = s[viz[i,0]]+s[viz[i,1]]\n",
        "        ener -= s[i]*h\n",
        "    ener = int((ener+2*N)/4)\n",
        "    return ener\n",
        "\n",
        "@jit(nopython=True)\n",
        "def minh(H, N):\n",
        "    #Calcula o menor valor de H excluindo as energias proibidas\n",
        "    minh=H[0]does not support option: 'nopresultython'\n",
        "    for i in range(2,N-1):\n",
        "        if H[i] < minh: minh=H[i]\n",
        "    if H[-1] < minh: minh=H[-1]\n",
        "    return minh\n",
        "\n",
        "@jit(nopython=True)\n",
        "def wang_landau(L,N,Niter,flatness):\n",
        "    # Algoritmo de Wang-Landau\n",
        "    s = estado_ini(N)\n",
        "    lnge = np.zeros(N+1,dtype=np.float64)\n",
        "    H = np.zeros(N+1,dtype=np.int16)\n",
        "    Hc = np.zeros(N+1,dtype=np.int16)\n",
        "    mmicro = np.zeros(N+1,dtype=np.float64)\n",
        "    lnf = 1.0\n",
        "    m = s.sum()\n",
        "    viz = vizinhos(L,N)\n",
        "    ener = energia(s, viz, N)\n",
        "\n",
        "    for it in range(Niter):\n",
        "        #Iterações do algoritmo\n",
        "        for imc in range(N):\n",
        "            #Passo de Monte Carlo - percorre toda a rede\n",
        "            k = np.random.randint(0,N-1)\n",
        "            h = s[viz[k,0]]+s[viz[k,1]]+s[viz[k,2]]+s[viz[k,3]] # soma dos vizinhos\n",
        "            ener2 = ener + int(s[k]*h*0.5)\n",
        "            #print(lnge[ener]-lnge[ener2])\n",
        "            if lnge[ener]>lnge[ener2]:\n",
        "                s[k] = -s[k] \n",
        "                ener = ener2\n",
        "                m -= 2*s[k]\n",
        "            else:\n",
        "                p = np.exp(lnge[ener]-lnge[ener2])\n",
        "                if np.random.random() < p: \n",
        "                    s[k] = -s[k] \n",
        "                    ener = ener2\n",
        "                    m -= 2*s[k]\n",
        "            H[ener] += 1\n",
        "            lnge[ener] += lnf\n",
        "            mmicro[ener] += abs(m)\n",
        "        if it%1000 == 0:\n",
        "            hmed = float(H.sum())/float((N-1))\n",
        "            hmin = minh(H, N)\n",
        "            if hmin > (flatness*hmed):\n",
        "                Hc += H\n",
        "                H = np.zeros(N+1,dtype=np.int16)\n",
        "                lnf = 0.5*lnf\n",
        "                print(\"Histograma flat!\",lnf)\n",
        "            if it%1000000 == 0: print(\"Iteração número\",it)\n",
        "        if lnf < 0.00000001: break\n",
        "        \n",
        "    mmicro = mmicro/Hc\n",
        "    lnge = lnge - lnge[0]+np.log(2)\n",
        "    return lnge,mmicro,ener,s\n",
        "\n",
        "\n",
        "def media_termodinamica(g,lista,beta,n):\n",
        "    maxi = max(g)\n",
        "    g = np.exp(g-maxi)\n",
        "    z=0\n",
        "    e_i = 0\n",
        "    e_ii = 0\n",
        "    eMin = min(lista)\n",
        "    \n",
        "    for e in lista:\n",
        "        e_1 = (4*e-2*n) - (4*eMin-2*n)\n",
        "        z = z + (g[e]*np.exp(-beta*e_1))\n",
        "        e_i = e_i + (e_1*g[e]*np.exp(-(beta*e_1)))\n",
        "        e_ii = e_ii + ((e_1**2)*g[e]*np.exp(-(beta*e_1)))\n",
        "    e_i = e_i/z\n",
        "    e_ii = e_ii/z\n",
        "    \n",
        "    \n",
        "    z = np.log(z)-(beta*eMin)\n",
        "    z = z + maxi\n",
        "    \n",
        "    cv = (beta**2) * ((e_ii - (e_i**2)))/n\n",
        "    media = (e_i + eMin)/n\n",
        "    return z,media,cv\n",
        "\n",
        "def get_parameters(L,N):\n",
        "    s = estado_ini(N)\n",
        "    viz = vizinhos(L,N)\n",
        "    ener = energia(s,viz)\n",
        "    return s, viz, ener\n",
        "\n",
        "def set_list(n): \n",
        "    list_n = []\n",
        "    #estados possíveis normalizados\n",
        "    for i in range (n+1):\n",
        "        if (i==1 or i==(n-1)):\n",
        "            continue\n",
        "        list_n.append(i)\n",
        "    return list_n\n",
        "\n",
        "# @jit(nopython=True)\n",
        "def magnetizacao_media(G, M, N, T):\n",
        "    M_media = 0.0\n",
        "    lista = set_list(N)\n",
        "    vet = []\n",
        "    for i in T:      \n",
        "      beta = 1./i\n",
        "      z,media,cv = media_termodinamica(G, lista, beta, N)\n",
        "      for E in range (N+1):\n",
        "          if(E == 1 or E == N - 1):\n",
        "              continue\n",
        "          E_dashed = E*4 - 2*N\n",
        "          M_media += np.exp(G[E] - G.max()) * M[E] * np.exp(-beta*E_dashed)\n",
        "      saida = M_media / (np.exp(z-G.max()) * N)\n",
        "      vet.append(saida)\n",
        "    return vet\n",
        "\n",
        "# def magnet(T,N,Z,lnge,mmicro):\n",
        "#   Mag_media = []\n",
        "#   maxi = max(lnge)\n",
        "#   lnge = np.exp(lnge-maxi)\n",
        "#   for i in range(len(T)):\n",
        "#       Mag_media += [magnetizacao_media(lnge[0], mmicro[1], N, Z[i], T[i]), ]\n",
        "\n",
        "#   plt.plot(T, Mag_media, color = 'black')\n",
        "#   plt.xlabel(\"Temperatura\")\n",
        "#   plt.ylabel(\"Magnetizacao\")\n",
        "#   plt.title(\"Magnetizacao media por spin - Ambiente 6x6\")\n",
        "#   plt.show()\n",
        "\n",
        "\n",
        "def magnet(lnge,m,t,n):\n",
        "    lista = set_list(n)\n",
        "    maxi = max(lnge)\n",
        "    g = np.exp(lnge-maxi)\n",
        "    # print(g)\n",
        "    # print(lnge)\n",
        "    sum_vet = []\n",
        "    soma = 0\n",
        "    for i in t:      \n",
        "      beta = 1/i\n",
        "      z,media,cv = media_termodinamica(lnge, lista, beta, n)\n",
        "      z = z - 2*maxi\n",
        "      for e in lista:\n",
        "        # print(m[e], g[e])\n",
        "        e_i = 4*e-2*n\n",
        "        soma += (m[e]*g[e])*np.exp(-beta*e_i)\n",
        "      soma = soma/(z*n)\n",
        "      sum_vet.append(soma)\n",
        "    return sum_vet\n",
        "            \n",
        "\n",
        "def show(title, xlabel, ylabel, x_6, y_6, x_12, y_12, x_18, y_18, x_24, y_24):\n",
        "    plt.plot(x_6, y_6, label = '6x6', color='blue')\n",
        "    plt.plot(x_12, y_12, label = '12x12', color='green')\n",
        "    plt.plot(x_18, y_18, label = '18x18', color='black')\n",
        "    plt.plot(x_24, y_24, label = '24x24', color='yellow')\n",
        "    plt.title(title)\n",
        "    plt.xlabel(xlabel)\n",
        "    plt.ylabel(ylabel)\n",
        "    plt.legend()\n",
        "    plt.show()"
      ],
      "execution_count": null,
      "outputs": []
    },
    {
      "cell_type": "code",
      "metadata": {
        "id": "sxkQeGtyQx2P"
      },
      "source": [
        "Niter=10000000  # Número máximo de passos de Monte Carlo (iterações do algoritmo)\n",
        "t = np.linspace(1,5,401) #ctes tempo = 1/beta\n",
        "flatness = 0.8  # Condição para zerar o histograma e diminuir lnf quando"
      ],
      "execution_count": null,
      "outputs": []
    },
    {
      "cell_type": "markdown",
      "metadata": {
        "id": "ZbxnXtGvQ2Et"
      },
      "source": [
        "#simulações"
      ]
    },
    {
      "cell_type": "code",
      "metadata": {
        "colab": {
          "base_uri": "https://localhost:8080/"
        },
        "id": "uAQ5qNyBQ687",
        "outputId": "ab188e6b-4c8c-453b-8642-df96a6fc4971"
      },
      "source": [
        "L_6=6            # Dimensão linear da rede\n",
        "N_6=L_6*L_6           # Total de sítios da rede\n",
        "\n",
        "print(\"Simulação do modelo de Ising 2D pelo método de Wang-Landau\")\n",
        "print(\"Rede quadrada\",L_6,\"x\",L_6, '\\n')\n",
        "\n",
        "lnge_6,mmicro_6,ener_6,s_6 = wang_landau(L_6,N_6,Niter,flatness)"
      ],
      "execution_count": null,
      "outputs": [
        {
          "output_type": "stream",
          "text": [
            "Simulação do modelo de Ising 2D pelo método de Wang-Landau\n",
            "Rede quadrada 6 x 6 \n",
            "\n",
            "Iteração número 0\n",
            "Histograma flat! 0.5\n",
            "Histograma flat! 0.25\n",
            "Histograma flat! 0.125\n",
            "Histograma flat! 0.0625\n",
            "Histograma flat! 0.03125\n",
            "Histograma flat! 0.015625\n",
            "Histograma flat! 0.0078125\n",
            "Histograma flat! 0.00390625\n",
            "Histograma flat! 0.001953125\n",
            "Histograma flat! 0.0009765625\n",
            "Histograma flat! 0.00048828125\n",
            "Histograma flat! 0.000244140625\n",
            "Histograma flat! 0.0001220703125\n",
            "Histograma flat! 6.103515625e-05\n",
            "Histograma flat! 3.0517578125e-05\n",
            "Histograma flat! 1.52587890625e-05\n",
            "Histograma flat! 7.62939453125e-06\n",
            "Histograma flat! 3.814697265625e-06\n",
            "Histograma flat! 1.9073486328125e-06\n",
            "Histograma flat! 9.5367431640625e-07\n",
            "Histograma flat! 4.76837158203125e-07\n",
            "Histograma flat! 2.384185791015625e-07\n",
            "Histograma flat! 1.1920928955078125e-07\n",
            "Histograma flat! 5.960464477539063e-08\n",
            "Histograma flat! 2.9802322387695312e-08\n",
            "Histograma flat! 1.4901161193847656e-08\n",
            "Histograma flat! 7.450580596923828e-09\n"
          ],
          "name": "stdout"
        }
      ]
    },
    {
      "cell_type": "code",
      "metadata": {
        "colab": {
          "base_uri": "https://localhost:8080/"
        },
        "id": "vYt4c75jQ_iB",
        "outputId": "a9ff905f-7cc0-4a4e-f4ae-a71669b31012"
      },
      "source": [
        "L_12=12            # Dimensão linear da rede\n",
        "N_12=L_12*L_12           # Total de sítios da rede\n",
        "\n",
        "print(\"Simulação do modelo de Ising 2D pelo método de Wang-Landau\")\n",
        "print(\"Rede quadrada\",L_12,\"x\",L_12, '\\n')\n",
        "\n",
        "lnge_12,mmicro_12,ener_12,s_12 = wang_landau(L_12,N_12,Niter,flatness)"
      ],
      "execution_count": null,
      "outputs": [
        {
          "output_type": "stream",
          "text": [
            "Simulação do modelo de Ising 2D pelo método de Wang-Landau\n",
            "Rede quadrada 12 x 12 \n",
            "\n",
            "Iteração número 0\n",
            "Histograma flat! 0.5\n",
            "Histograma flat! 0.25\n",
            "Histograma flat! 0.125\n",
            "Histograma flat! 0.0625\n",
            "Histograma flat! 0.03125\n",
            "Histograma flat! 0.015625\n",
            "Histograma flat! 0.0078125\n",
            "Histograma flat! 0.00390625\n",
            "Histograma flat! 0.001953125\n",
            "Histograma flat! 0.0009765625\n",
            "Histograma flat! 0.00048828125\n",
            "Histograma flat! 0.000244140625\n",
            "Histograma flat! 0.0001220703125\n",
            "Histograma flat! 6.103515625e-05\n",
            "Histograma flat! 3.0517578125e-05\n",
            "Histograma flat! 1.52587890625e-05\n",
            "Iteração número 1000000\n",
            "Iteração número 2000000\n",
            "Iteração número 3000000\n",
            "Iteração número 4000000\n",
            "Iteração número 5000000\n",
            "Iteração número 6000000\n",
            "Iteração número 7000000\n",
            "Iteração número 8000000\n",
            "Iteração número 9000000\n"
          ],
          "name": "stdout"
        }
      ]
    },
    {
      "cell_type": "code",
      "metadata": {
        "colab": {
          "base_uri": "https://localhost:8080/"
        },
        "id": "xggndIS5REIH",
        "outputId": "174c40e0-be16-46c5-b2d5-0e478ec24620"
      },
      "source": [
        "L_18=18            # Dimensão linear da rede\n",
        "N_18=L_18*L_18           # Total de sítios da rede\n",
        "\n",
        "print(\"Simulação do modelo de Ising 2D pelo método de Wang-Landau\")\n",
        "print(\"Rede quadrada\",L_18,\"x\",L_18, '\\n')\n",
        "\n",
        "lnge_18,mmicro_18,ener_18,s_18 = wang_landau(L_18,N_18,Niter,flatness)"
      ],
      "execution_count": null,
      "outputs": [
        {
          "output_type": "stream",
          "text": [
            "Simulação do modelo de Ising 2D pelo método de Wang-Landau\n",
            "Rede quadrada 18 x 18 \n",
            "\n",
            "Iteração número 0\n",
            "Histograma flat! 0.5\n",
            "Histograma flat! 0.25\n",
            "Histograma flat! 0.125\n",
            "Histograma flat! 0.0625\n",
            "Histograma flat! 0.03125\n",
            "Histograma flat! 0.015625\n",
            "Histograma flat! 0.0078125\n",
            "Histograma flat! 0.00390625\n",
            "Histograma flat! 0.001953125\n",
            "Histograma flat! 0.0009765625\n",
            "Histograma flat! 0.00048828125\n",
            "Histograma flat! 0.000244140625\n",
            "Histograma flat! 0.0001220703125\n",
            "Histograma flat! 6.103515625e-05\n",
            "Iteração número 1000000\n",
            "Iteração número 2000000\n",
            "Iteração número 3000000\n",
            "Iteração número 4000000\n",
            "Iteração número 5000000\n",
            "Iteração número 6000000\n",
            "Iteração número 7000000\n",
            "Iteração número 8000000\n",
            "Iteração número 9000000\n",
            "Histograma flat! 3.0517578125e-05\n"
          ],
          "name": "stdout"
        }
      ]
    },
    {
      "cell_type": "code",
      "metadata": {
        "colab": {
          "base_uri": "https://localhost:8080/"
        },
        "id": "tqnvaC4VRFle",
        "outputId": "e868b472-16d9-4b61-edde-2a0832efa4af"
      },
      "source": [
        "L_24=24            # Dimensão linear da rede\n",
        "N_24=L_24*L_24           # Total de sítios da rede\n",
        "\n",
        "print(\"Simulação do modelo de Ising 2D pelo método de Wang-Landau\")\n",
        "print(\"Rede quadrada\",L_24,\"x\",L_24, '\\n')\n",
        "\n",
        "lnge_24,mmicro_24,ener_24,s_24 = wang_landau(L_24,N_24,Niter,flatness)"
      ],
      "execution_count": null,
      "outputs": [
        {
          "output_type": "stream",
          "text": [
            "Simulação do modelo de Ising 2D pelo método de Wang-Landau\n",
            "Rede quadrada 24 x 24 \n",
            "\n",
            "Iteração número 0\n",
            "Histograma flat! 0.5\n",
            "Histograma flat! 0.25\n",
            "Histograma flat! 0.125\n",
            "Histograma flat! 0.0625\n",
            "Histograma flat! 0.03125\n",
            "Histograma flat! 0.015625\n",
            "Histograma flat! 0.0078125\n",
            "Histograma flat! 0.00390625\n",
            "Histograma flat! 0.001953125\n",
            "Histograma flat! 0.0009765625\n",
            "Histograma flat! 0.00048828125\n",
            "Histograma flat! 0.000244140625\n",
            "Histograma flat! 0.0001220703125\n",
            "Iteração número 1000000\n",
            "Histograma flat! 6.103515625e-05\n",
            "Iteração número 2000000\n",
            "Iteração número 3000000\n",
            "Iteração número 4000000\n",
            "Iteração número 5000000\n",
            "Iteração número 6000000\n",
            "Iteração número 7000000\n",
            "Iteração número 8000000\n",
            "Iteração número 9000000\n"
          ],
          "name": "stdout"
        }
      ]
    },
    {
      "cell_type": "markdown",
      "metadata": {
        "id": "wkUq2wT2RH_s"
      },
      "source": [
        "#Questoes"
      ]
    },
    {
      "cell_type": "code",
      "metadata": {
        "id": "dHyQOhlBRLx3"
      },
      "source": [
        "def solve(n, t, lnge):\n",
        "  list_n = set_list(n)\n",
        "  x = []\n",
        "  y = []\n",
        "  y_cv = []\n",
        "  y_ft = []\n",
        "  y_st = []\n",
        "\n",
        "  for i in t:\n",
        "    beta = 1/i\n",
        "    z,media,cv = media_termodinamica(lnge, list_n, beta, n)\n",
        "    # print(z)\n",
        "    # if(2==2):\n",
        "    #   break\n",
        "    x.append(i)\n",
        "    \n",
        "    y_cv.append(cv)\n",
        "    \n",
        "    y.append(media)\n",
        "    \n",
        "    ft = -((1/(n*beta))*z)\n",
        "    y_ft.append(ft)\n",
        "\n",
        "    st = (media-ft)/i\n",
        "    y_st.append(st)\n",
        "\n",
        "  return (x,y,y_cv,y_ft,y_st)"
      ],
      "execution_count": null,
      "outputs": []
    },
    {
      "cell_type": "code",
      "metadata": {
        "id": "TN1KYq_tSyRq"
      },
      "source": [
        "x_6,y_6,y_cv_6,y_ft_6,y_st_6 = solve(N_6, t, lnge_6)"
      ],
      "execution_count": null,
      "outputs": []
    },
    {
      "cell_type": "code",
      "metadata": {
        "id": "FChBK0HyTIYs"
      },
      "source": [
        "x_12,y_12,y_cv_12,y_ft_12,y_st_12 = solve(N_12, t, lnge_12)"
      ],
      "execution_count": null,
      "outputs": []
    },
    {
      "cell_type": "code",
      "metadata": {
        "id": "RkEUBNCBUrz8"
      },
      "source": [
        "x_18,y_18,y_cv_18,y_ft_18,y_st_18 = solve(N_18, t, lnge_18)"
      ],
      "execution_count": null,
      "outputs": []
    },
    {
      "cell_type": "code",
      "metadata": {
        "id": "Lc0MwIkTUsQw"
      },
      "source": [
        "x_24,y_24,y_cv_24,y_ft_24,y_st_24 = solve(N_24, t, lnge_24)"
      ],
      "execution_count": null,
      "outputs": []
    },
    {
      "cell_type": "markdown",
      "metadata": {
        "id": "xsXOylkM4h9h"
      },
      "source": [
        "**Discussão resultados 1** É esperado que o aumento da temperatura equivaleria em um aumento de energia por spins. Além disso, em uma rede com mais números de spins apresenta ainda um ganho de energia por spin.\n",
        ".\n",
        "\n",
        ".\n",
        "\n",
        ".\n",
        ".\n",
        "\n",
        ".\n",
        ".\n",
        "\n",
        ".\n",
        "\n",
        ".\n",
        "\n",
        ".\n",
        "\n",
        ".\n",
        "\n",
        ".\n",
        "\n",
        "."
      ]
    },
    {
      "cell_type": "code",
      "metadata": {
        "colab": {
          "base_uri": "https://localhost:8080/",
          "height": 295
        },
        "id": "ssqvKZvNTSVg",
        "outputId": "3b80b773-ac08-4d82-97b9-6e734f3d5999"
      },
      "source": [
        "show('energia por <e> em funcao da temperaturacaso"
      ],
      "execution_count": null,
      "outputs": [
        {
          "output_type": "display_data",
          "data": {
            "image/png": "[encoded data removed]",
            "text/plain": [
              "<Figure size 432x288 with 1 Axes>"
            ]
          },
          "metadata": {
            "tags": [],
            "needs_background": "light"
          }
        }
      ]
    },
    {
      "cell_type": "code",
      "metadata": {
        "colab": {
          "base_uri": "https://localhost:8080/",
          "height": 295
        },
        "id": "7dcV3fmoTV9p",
        "outputId": "6307c176-4f6d-4097-f7bd-c5fc752e0a9a"
      },
      "source": [
        "show('calor específico em funcao da temperatura', 'T (Temperatura)', 'Cv(calor específico)', x_6, y_cv_6, x_12, y_cv_12, x_18, y_cv_18, x_24, y_cv_24)"
      ],
      "execution_count": null,
      "outputs": [
        {
          "output_type": "display_data",
          "data": {
            "image/png": "[encoded data removed]",
            "text/plain": [
              "<Figure size 432x288 with 1 Axes>"
            ]
          },
          "metadata": {
            "tags": [],
            "needs_background": "light"
          }
        }
      ]
    },
    {
      "cell_type": "markdown",
      "metadata": {
        "id": "TCdV0k734vRD"
      },
      "source": [
        "**Discussão resultados 2** Podemos observar que os sistemas tiveram o maior calor específico quando t=2.25. Inicialmente a taxa de crescimento dos modelos são equivalenes mas logo os sistemas de maior quantidade crescem, tem um pico elevado e decresce igualmente até se aproximarem novamente em t>3.5."
      ]
    },
    {
      "cell_type": "code",
      "metadata": {
        "colab": {
          "base_uri": "https://localhost:8080/",
          "height": 295
        },
        "id": "GSLRcxn5TYg1",
        "outputId": "0fc13984-56c8-4260-dfbf-b41c3c744b75"
      },
      "source": [
        "show('energia livre por spin', 'T (Temperatura)', 'F(t)', x_6, y_ft_6, x_12, y_ft_12, x_18, y_ft_18, x_24, y_ft_24)"
      ],
      "execution_count": null,
      "outputs": [
        {
          "output_type": "display_data",
          "data": {
            "image/png": "[encoded data removed]",
            "text/plain": [
              "<Figure size 432x288 with 1 Axes>"
            ]
          },
          "metadata": {
            "tags": [],
            "needs_background": "light"
          }
        }
      ]
    },
    {
      "cell_type": "markdown",
      "metadata": {
        "id": "57hQHfNm4_Pw"
      },
      "source": [
        "**Discussão resultados 3**\n",
        "Diferentemente de da questão 1, a energia livre decresce quando se tem um aumento na temperatura. Além disso a taxa de decrescimento de ambos sistema são próximos mas cada um partindo de um f inicial diferente."
      ]
    },
    {
      "cell_type": "code",
      "metadata": {
        "colab": {
          "base_uri": "https://localhost:8080/",
          "height": 295
        },
        "id": "JncZ3jsmTbMM",
        "outputId": "35d9d1b9-6a5d-4e79-da53-5ce6fd1feff0"
      },
      "source": [
        "show('entropia por spin', 'T (Temperatura)', 'S(T)', x_6, y_st_6, x_12, y_st_12, x_18, y_st_18, x_24, y_st_24)"
      ],
      "execution_count": null,
      "outputs": [
        {
          "output_type": "display_data",
          "data": {
            "image/png": "[encoded data removed]",
            "text/plain": [
              "<Figure size 432x288 with 1 Axes>"
            ]
          },
          "metadata": {
            "tags": [],
            "needs_background": "light"
          }
        }
      ]
    },
    {
      "cell_type": "markdown",
      "metadata": {
        "id": "0JktIjSx5JQ2"
      },
      "source": [
        "**Discussão resultados 4**\n",
        "A entropia é crescente quando há aumento de temperatura. É esperado que sistemas mais complexos tenham um grau de entropia maior e, por isso, a taxa de crescimento é mais alta para sistemas maiores."
      ]
    },
    {
      "cell_type": "markdown",
      "metadata": {
        "id": "TPrc5Bx0jfie"
      },
      "source": [
        "#Q5"
      ]
    },
    {
      "cell_type": "code",
      "metadata": {
        "id": "BF-5mljhhHy2"
      },
      "source": [
        "mag_6 = magnetizacao_media(lnge_6,mmicro_6, N_6,t)"
      ],
      "execution_count": null,
      "outputs": []
    },
    {
      "cell_type": "code",
      "metadata": {
        "id": "d6_2vMtmUmtu"
      },
      "source": [
        "mag_12 = magnetizacao_media(lnge_12,mmicro_12, N_12,t)"
      ],
      "execution_count": null,
      "outputs": []
    },
    {
      "cell_type": "code",
      "metadata": {
        "id": "jg843lkdypd4"
      },
      "source": [
        "mag_18 = magnetizacao_media(lnge_18,mmicro_18, N_18,t)"
      ],
      "execution_count": null,
      "outputs": []
    },
    {
      "cell_type": "code",
      "metadata": {
        "id": "NZwyz8uryqWC"
      },
      "source": [
        "mag_24 = magnetizacao_media(lnge_24,mmicro_24, N_24,t)"
      ],
      "execution_count": null,
      "outputs": []
    },
    {
      "cell_type": "code",
      "metadata": {
        "colab": {
          "base_uri": "https://localhost:8080/",
          "height": 295
        },
        "id": "lkpn0wBAiSla",
        "outputId": "21d11401-45fd-47fb-ac2a-6cff96607734"
      },
      "source": [
        "show('Magnetização média por spin', 'T (Temperatura)', 'm/n', x_6, mag_6, x_12, mag_12, x_18, mag_18, x_24, mag_24)"
      ],
      "execution_count": null,
      "outputs": [
        {
          "output_type": "display_data",
          "data": {
            "image/png": "[encoded data removed]",
            "text/plain": [
              "<Figure size 432x288 with 1 Axes>"
            ]
          },
          "metadata": {
            "tags": [],
            "needs_background": "light"
          }
        }
      ]
    },
    {
      "cell_type": "markdown",
      "metadata": {
        "id": "6nWICXCTzRrr"
      },
      "source": [
        "**Discussão resultados 4** É esperado que um material, quando aumentado sua temperatura, a magnetização tende a 0. "
      ]
    }
  ]
}